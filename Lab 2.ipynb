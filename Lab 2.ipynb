{
 "cells": [
  {
   "cell_type": "markdown",
   "metadata": {},
   "source": [
    "# Lab 2 - Analysis of Nuclear and Alternative Energy use as a Percentage of Total Energy Consumption by Country \n",
    "## David Abramowitz 9/20/2018"
   ]
  },
  {
   "cell_type": "markdown",
   "metadata": {},
   "source": [
    "## Abstract"
   ]
  },
  {
   "cell_type": "markdown",
   "metadata": {},
   "source": [
    "In this lab, I looked at data from the World Bank on countries' percentage of nuclear and alternative energy use compared to their total energy use. The average percentage and the minimum and maximum percentages were found for the years 2011 and 2012. It was found that Iceland uses the most alternative and/or nuclear energy with over 89% of its energy use being comprised of these sources. The minimum percentages were both zero and the average for both 2011 and 2012 were over eight percent. "
   ]
  },
  {
   "cell_type": "markdown",
   "metadata": {},
   "source": [
    "## Dataset Preparation"
   ]
  },
  {
   "cell_type": "markdown",
   "metadata": {},
   "source": [
    "This data was accessed through the World Bank website, which can be found here: https://data.worldbank.org/indicator/EG.USE.COMM.CL.ZS?view=chart. The data itself came from the International Energy Agency and the Organization for Economic Cooperation and Development. Here is the original CSV file: API_EG.USE.COMM.CL.ZS_DS2_en_csv_v2_10082393.csv. This data represents the percentage of nuclear and alternative energy use. So, if half of a country's energy production came from a nuclear or alternative source then its percentaeg would be 50. Note that this figure does not take into consideration the volume of energy production. For example, if the country with half of its energy coming form nuclear or alternative sources is Country A and a country with a quarter of its energy coming from those sources is Country B, then Country A's percentage will be 50 to B's 25. However Country B may produce two times as much energy as A, so while B's percentage is half that of A's, the energy outpute is equal.  \n",
    "\n",
    "Here is a link to data in Google Sheets: https://docs.google.com/spreadsheets/d/1zKy34i5Jsp_heEU76nN3KP3mTYfUguFIKJKJ671mB7k/edit?usp=sharing\n",
    "The names in red are those that are suspected to be noncountries, and those in yellow are territories, protectorates, or other areas where confusion may arise. The four rows of hear data are intact as they do not get removed in Google Sheets. "
   ]
  },
  {
   "cell_type": "markdown",
   "metadata": {},
   "source": [
    "This dataset included indexes, groups of countries that created several redundancies. Becuase my focus was on indivudal countries, these noncountries had to be removed. Below are all of the names that were removed:\n",
    "- Arab World\n",
    "- Central Europe and the Baltics\n",
    "- Caribbean small states\n",
    "- East Asia & Pacific (excluding high income)\n",
    "- Early-demographic dividend\n",
    "- East Asia & Pacific\n",
    "- Europe & Central Asia (excluding high income)\n",
    "- Europe & Central Asia\n",
    "- Euro area\n",
    "- European Union\n",
    "- Fragile and conflict affected situations\n",
    "- High income\n",
    "- Heavily indebted poor countries (HIPC)\n",
    "- IBRD only\n",
    "- IDA & IBRD total\n",
    "- IDA total\n",
    "- IDA blend\n",
    "- IDA only\n",
    "- Not classified\n",
    "- Latin America & Caribbean (excluding high income)\n",
    "- Latin America & Caribbean\n",
    "- Least developed countries: UN classification\n",
    "- Low income\n",
    "- Lower middle income\n",
    "- Low & middle income\n",
    "- Late-demographic dividend\n",
    "- Middle East & North Africa\n",
    "- Middle income\n",
    "- Middle East & North Africa (excluding high income)\n",
    "- North America\n",
    "- OECD members\n",
    "- Other small states\n",
    "- Pre-demographic dividend\n",
    "- Pacific island small states\n",
    "- Post-demographic dividend\n",
    "- South Asia\n",
    "- Sub-Saharan Africa (excluding high income)\n",
    "- Sub-Saharan Africa\n",
    "- Small states\n",
    "- East Asia & Pacific (IDA & IBRD countries)\n",
    "- Europe & Central Asia (IDA & IBRD countries)\n",
    "- Latin America & the Caribbean (IDA & IBRD countries)\n",
    "- Middle East & North Africa (IDA & IBRD countries)\n",
    "- South Asia (IDA & IBRD)\n",
    "- Sub-Saharan Africa (IDA & IBRD countries)\n",
    "- Upper middle income\n",
    "- World"
   ]
  },
  {
   "cell_type": "markdown",
   "metadata": {},
   "source": [
    "Territories such as Puerto Rico were counted seperately. Below is a list of territories/protectorates and other areas of potential confusion. All of these were counted as being seperate to avoid confusion. \n",
    "- American Samoa\n",
    "- Channel Islands\n",
    "- Hong Kong SAR, China\n",
    "- Macao SAR, China\n",
    "- New Caledonia\n",
    "- Puerto Rico\n",
    "- West Bank and Gaza\n",
    "- French Polynesia\n",
    "- Sint Maarten (Dutch part)\n",
    "- Turks and Caicos Islands\n",
    "- British Virgin Islands\n",
    "- Virgin Islands (U.S.)\n"
   ]
  },
  {
   "cell_type": "code",
   "execution_count": 31,
   "metadata": {},
   "outputs": [],
   "source": [
    "#noncountries manually deleted in Google Sheets"
   ]
  },
  {
   "cell_type": "code",
   "execution_count": 32,
   "metadata": {},
   "outputs": [
    {
     "name": "stdout",
     "output_type": "stream",
     "text": [
      "['Data Source,World Development Indicators,,,,,,,,,,,,,,,,,,,,,,,,,,,,,,,,,,,,,,,,,,,,,,,,,,,,,,,,,,,,\\n', ',,,,,,,,,,,,,,,,,,,,,,,,,,,,,,,,,,,,,,,,,,,,,,,,,,,,,,,,,,,,,\\n', 'Last Updated Date,2018-08-28,,,,,,,,,,,,,,,,,,,,,,,,,,,,,,,,,,,,,,,,,,,,,,,,,,,,,,,,,,,,\\n', ',,,,,,,,,,,,,,,,,,,,,,,,,,,,,,,,,,,,,,,,,,,,,,,,,,,,,,,,,,,,,\\n', 'Country Name,Country Code,Indicator Name,Indicator Code,1960,1961,1962,1963,1964,1965,1966,1967,1968,1969,1970,1971,1972,1973,1974,1975,1976,1977,1978,1979,1980,1981,1982,1983,1984,1985,1986,1987,1988,1989,1990,1991,1992,1993,1994,1995,1996,1997,1998,1999,2000,2001,2002,2003,2004,2005,2006,2007,2008,2009,2010,2011,2012,2013,2014,2015,2016,2017\\n', 'Aruba,ABW,Alternative and nuclear energy (% of total energy use),EG.USE.COMM.CL.ZS,,,,,,,,,,,,,,,,,,,,,,,,,,,,,,,,,,,,,,,,,,,,,,,,,,,,,,,,,,\\n', 'Afghanistan,AFG,Alternative and nuclear energy (% of total energy use),EG.USE.COMM.CL.ZS,,,,,,,,,,,,,,,,,,,,,,,,,,,,,,,,,,,,,,,,,,,,,,,,,,,,,,,,,,\\n', 'Angola,AGO,Alternative and nuclear energy (% of total energy use),EG.USE.COMM.CL.ZS,,,,,,,,,,,,1.351166059,1.410645793,1.694729788,1.748593374,1.982569886,0.9038063093,0.9167393091,1.028037849,1.065821929,1.121397344,1.114046147,1.197733519,1.067446156,1.098589514,1.208084947,1.194329205,1.166167561,1.120664063,1.110308595,1.059805315,1.102117333,1.192545009,1.220019931,1.210327457,1.218061875,1.216598781,1.126308332,1.367893399,1.098361843,1.090812748,1.165133129,1.251680189,1.259392698,1.726128644,2.264856497,2.479161747,2.177703582,2.525101679,2.293878407,2.61723535,2.726740489,2.339021054,2.952296051,2.954634798,,,\\n']\n"
     ]
    }
   ],
   "source": [
    "#open the file\n",
    "data_file = open(\"Untitled spreadsheet - API_EG.USE.COMM.CL.ZS_DS2_en_csv_v2_10082393.csv\", \"r\")\n",
    "\n",
    "#make an empty list to store the file\n",
    "energy_list = [];\n",
    "\n",
    "#enter all of the lines from the CSV file into the list\n",
    "for row in data_file:\n",
    "    energy_list.append(row);\n",
    "    \n",
    "#close the file\n",
    "data_file.close();\n",
    "\n",
    "#check that the file was properly read into the list\n",
    "print(energy_list[:8])\n"
   ]
  },
  {
   "cell_type": "code",
   "execution_count": 33,
   "metadata": {},
   "outputs": [
    {
     "name": "stdout",
     "output_type": "stream",
     "text": [
      "['Aruba,ABW,Alternative and nuclear energy (% of total energy use),EG.USE.COMM.CL.ZS,,,,,,,,,,,,,,,,,,,,,,,,,,,,,,,,,,,,,,,,,,,,,,,,,,,,,,,,,,\\n', 'Afghanistan,AFG,Alternative and nuclear energy (% of total energy use),EG.USE.COMM.CL.ZS,,,,,,,,,,,,,,,,,,,,,,,,,,,,,,,,,,,,,,,,,,,,,,,,,,,,,,,,,,\\n', 'Angola,AGO,Alternative and nuclear energy (% of total energy use),EG.USE.COMM.CL.ZS,,,,,,,,,,,,1.351166059,1.410645793,1.694729788,1.748593374,1.982569886,0.9038063093,0.9167393091,1.028037849,1.065821929,1.121397344,1.114046147,1.197733519,1.067446156,1.098589514,1.208084947,1.194329205,1.166167561,1.120664063,1.110308595,1.059805315,1.102117333,1.192545009,1.220019931,1.210327457,1.218061875,1.216598781,1.126308332,1.367893399,1.098361843,1.090812748,1.165133129,1.251680189,1.259392698,1.726128644,2.264856497,2.479161747,2.177703582,2.525101679,2.293878407,2.61723535,2.726740489,2.339021054,2.952296051,2.954634798,,,\\n', 'Albania,ALB,Alternative and nuclear energy (% of total energy use),EG.USE.COMM.CL.ZS,,,,,,,,,,,,3.504445756,3.986335214,5.532737638,6.123031306,6.91916246,7.459715709,8.148727192,7.956728351,10.26375916,8.259654631,9.727009603,9.985082751,9.675467522,7.964705003,6.741081812,11.98675178,10.13453855,8.669958512,9.1478928,9.163726865,16.16902474,20.42684655,21.41494442,22.91392142,27.19568051,34.70792219,35.71220329,31.70343624,25.41877718,22.09401929,16.80172454,15.06798298,21.42521786,21.77019242,21.42897686,22.18861538,12.18660252,15.8982795,21.17314894,30.95381353,16.51619005,20.95791096,26.30974118,17.92420559,,,\\n', 'Andorra,AND,Alternative and nuclear energy (% of total energy use),EG.USE.COMM.CL.ZS,,,,,,,,,,,,,,,,,,,,,,,,,,,,,,,,,,,,,,,,,,,,,,,,,,,,,,,,,,\\n']\n"
     ]
    }
   ],
   "source": [
    "#delete the top five rows as they are the header data using a loop\n",
    "for index in range (5):\n",
    "    del energy_list[0];\n",
    "\n",
    "#check that the rows were properly deleted by printing some data\n",
    "print(energy_list[:5])"
   ]
  },
  {
   "cell_type": "markdown",
   "metadata": {},
   "source": [
    "After the data was downloaded and header data (top five rows) got deleted, some of data was printed to ensure that it had been properly imported. Four seperate lists were created for the data; a list for the countries, a list for 2011 energy data, a list for 2012 energy data, and a list for nonreporting countries. A list for noncountries was then created.  "
   ]
  },
  {
   "cell_type": "code",
   "execution_count": 34,
   "metadata": {},
   "outputs": [
    {
     "name": "stdout",
     "output_type": "stream",
     "text": [
      "Not a country: Arab World\n",
      "Not a country: Central Europe and the Baltics\n",
      "Not a country: Caribbean small states\n",
      "Not a country: East Asia & Pacific (excluding high income)\n",
      "Not a country: Early-demographic dividend\n",
      "Not a country: East Asia & Pacific\n",
      "Not a country: Europe & Central Asia (excluding high income)\n",
      "Not a country: Europe & Central Asia\n",
      "Not a country: Euro area\n",
      "Not a country: European Union\n",
      "Not a country: Fragile and conflict affected situations\n",
      "Not a country: High income\n",
      "Not a country: Heavily indebted poor countries (HIPC)\n",
      "Not a country: IBRD only\n",
      "Not a country: IDA & IBRD total\n",
      "Not a country: IDA total\n",
      "Not a country: IDA blend\n",
      "Not a country: IDA only\n",
      "Not a country: Not classified\n",
      "Not a country: Latin America & Caribbean (excluding high income)\n",
      "Not a country: Latin America & Caribbean\n",
      "Not a country: Least developed countries: UN classification\n",
      "Not a country: Low income\n",
      "Not a country: Lower middle income\n",
      "Not a country: Low & middle income\n",
      "Not a country: Late-demographic dividend\n",
      "Not a country: Middle East & North Africa\n",
      "Not a country: Middle income\n",
      "Not a country: Middle East & North Africa (excluding high income)\n",
      "Not a country: North America\n",
      "Not a country: OECD members\n",
      "Not a country: Other small states\n",
      "Not a country: Pre-demographic dividend\n",
      "Not a country: Pacific island small states\n",
      "Not a country: Post-demographic dividend\n",
      "Not a country: South Asia\n",
      "Not a country: Sub-Saharan Africa (excluding high income)\n",
      "Not a country: Sub-Saharan Africa\n",
      "Not a country: Small states\n",
      "Not a country: East Asia & Pacific (IDA & IBRD countries)\n",
      "Not a country: Europe & Central Asia (IDA & IBRD countries)\n",
      "Not a country: Latin America & the Caribbean (IDA & IBRD countries)\n",
      "Not a country: Middle East & North Africa (IDA & IBRD countries)\n",
      "Not a country: South Asia (IDA & IBRD)\n",
      "Not a country: Sub-Saharan Africa (IDA & IBRD countries)\n",
      "Not a country: Upper middle income\n",
      "Not a country: World\n",
      "[2.726740489, 16.51619005, 0.0, 6.303150176, 32.34446716]\n",
      "[2.339021054, 20.95791096, 0.0, 6.031638562, 27.0079745]\n",
      "['Angola', 'Albania', 'United Arab Emirates', 'Argentina', 'Armenia']\n",
      "['Aruba', 'Afghanistan', 'Andorra', 'American Samoa', 'Antigua and Barbuda']\n"
     ]
    }
   ],
   "source": [
    "#create seperate lists for 2011 and 2012 and the countries and nonreporters \n",
    "country_list = [];\n",
    "year_2011_list = [];\n",
    "year_2012_list = [];\n",
    "nonreporting_countries_2011_2012_list = [];\n",
    "\n",
    "#making a list of codes for noncountries/regions\n",
    "#I don't include these entities in my statistical calculations \n",
    "noncountry_codes_list = [\"ARB\", \"CEB\", \"CSS\", \"EAP\", \"EAR\", \"EAS\", \"ECA\", \"ECS\", \"EMU\", \"EUU\", \"FCS\", \"HIC\", \"HPC\", \"IBD\", \"IBT\", \"IDA\", \"IDB\", \"IDX\", \"INX\", \"LAC\", \"LCN\", \"LDC\", \"LIC\", \"LMC\", \"LMY\", \"LTE\", \"MEA\", \"MIC\", \"MNA\", \"NAC\", \"OED\", \"OSS\", \"PRE\", \"PSS\", \"PST\", \"SAS\", \"SSA\", \"SSF\", \"SST\", \"TEA\", \"TEC\", \"TLA\", \"TMN\", \"TSA\", \"TSS\", \"UMC\", \"WLD\"]\n",
    "\n",
    "#A for loop to pull the information out of the original energy list\n",
    "for item in range(len(energy_list)):\n",
    "    #split up the data\n",
    "    energy_list[item] = energy_list[item].split(\",\")\n",
    "    \n",
    "    \n",
    "   #create variables for the country names and codes\n",
    "    country_name = energy_list[item][0]\n",
    "    country_code = energy_list[item][1]\n",
    "    #isolate 2011 and 2012 data from the noncountry data and add them into their repsective lists\n",
    "    if not(country_code in noncountry_codes_list): \n",
    "   \n",
    "        \n",
    "        \n",
    "   \n",
    "        year_2011_item = energy_list[item][55]\n",
    "        year_2012_item = energy_list[item][56]\n",
    "     #check to make sure that the country code is not for a region or noncountry using the noncountry codes \n",
    "     #if data is blank in the 2011, 2012, or country list, it will go into the nonreporting list\n",
    "     #if data is NOT blank it will go to the 2011, 2012, or country list \n",
    "        if year_2011_item == '' or year_2012_item == '':   #data is missing\n",
    "            nonreporting_countries_2011_2012_list.append(country_name)  \n",
    "        else:\n",
    "            year_2011_list.append(float(year_2011_item))\n",
    "            year_2012_list.append(float(year_2012_item))\n",
    "            country_list.append(country_name)\n",
    "   #check that noncountries were isloated correctly\n",
    "    else:\n",
    "        print(\"Not a country:\", country_name)\n",
    "    \n",
    "\n",
    "#check that lists were split correctly\n",
    "print(year_2011_list[:5])\n",
    "print(year_2012_list[:5])\n",
    "print(country_list[:5])\n",
    "print(nonreporting_countries_2011_2012_list[:5])"
   ]
  },
  {
   "cell_type": "markdown",
   "metadata": {},
   "source": [
    "The codes for noncountries were manually collected from data and entered into the noncountries list. The data was split and variables were created for the country codes. After that, data for 2011 and 2012 was isolated (this was done by manually counting which rows this data was stored in, it got checked to ensure that the rows were not miscounted). If a country's code matched a code in the noncountries list, it was not included in statistical calculations. In the 2011 and 2012 lists, nonreporting countries were frequent. As such, if an item in either list was blank it got added into the nonreporting list. Noncountries were listed to ensure accuracy. "
   ]
  },
  {
   "cell_type": "markdown",
   "metadata": {},
   "source": [
    "## Data Modeling\n",
    "The maximum percenatges in the 2011 and 2012 lists were found and their corresponding country names were also found. Additionally, the minimum percentages and the associated country names were also found.  "
   ]
  },
  {
   "cell_type": "code",
   "execution_count": 35,
   "metadata": {},
   "outputs": [
    {
     "name": "stdout",
     "output_type": "stream",
     "text": [
      "Max percentage for 2011 is 89.72528057\n",
      "Max percentage for 2012 is 89.638477\n",
      "Country with the maximum percentage in 2011 is Iceland\n",
      "Country with the maximum percentage in 2012 is Iceland\n",
      "Min percentage for 2011 is 0.0\n",
      "Min percentage for 2012 is 0.0\n",
      "Country with the minimum percentage in 2011 is United Arab Emirates\n",
      "Country with the minimum percentage in 2012 is United Arab Emirates\n",
      "Average nuclear and atl. energy use per country for 2011 is 8.717280642916696 %\n",
      "Average nuclear and atl. energy use per country for 2012 is 8.789302387254674 %\n"
     ]
    }
   ],
   "source": [
    "#find highest percentages for 2011 and 2012 \n",
    "max_energy_percentage_2011 = max(year_2011_list)\n",
    "print(\"Max percentage for 2011 is\", max_energy_percentage_2011)\n",
    "\n",
    "max_energy_percentage_2012 = max(year_2012_list)\n",
    "print(\"Max percentage for 2012 is\", max_energy_percentage_2012)\n",
    "\n",
    "#find the corresponding country names\n",
    "max_index = year_2011_list.index(max_energy_percentage_2011)\n",
    "print(\"Country with the maximum percentage in 2011 is\", country_list[max_index])\n",
    "\n",
    "max_index = year_2012_list.index(max_energy_percentage_2012)\n",
    "print(\"Country with the maximum percentage in 2012 is\", country_list[max_index])\n",
    "\n",
    "#finding the minimum percentages for 2011 and 2012\n",
    "min_energy_percentage_2011 = min(year_2011_list)\n",
    "print(\"Min percentage for 2011 is\", min_energy_percentage_2011)\n",
    "\n",
    "min_energy_percentage_2012 = min(year_2012_list)\n",
    "print(\"Min percentage for 2012 is\", min_energy_percentage_2012)\n",
    "\n",
    "#find the corresponding country names\n",
    "min_index = year_2011_list.index(min_energy_percentage_2011)\n",
    "print(\"Country with the minimum percentage in 2011 is\", country_list[min_index])\n",
    "\n",
    "min_index = year_2012_list.index(min_energy_percentage_2012)\n",
    "print(\"Country with the minimum percentage in 2012 is\", country_list[min_index])\n",
    "\n",
    "\n",
    "\n",
    "#finding the averages of both 2011 and 2012\n",
    "count = len(year_2011_list)\n",
    "total = sum(year_2011_list)\n",
    "average = total/count\n",
    "print(\"Average nuclear and atl. energy use per country for 2011 is\", average,\"%\")\n",
    "\n",
    "count = len(year_2012_list)\n",
    "total = sum(year_2012_list)\n",
    "average = total/count\n",
    "print(\"Average nuclear and atl. energy use per country for 2012 is\", average,\"%\")"
   ]
  },
  {
   "cell_type": "markdown",
   "metadata": {},
   "source": [
    "The average percentages of nuclear and alternative energy use for 2011 and 2012 were also found."
   ]
  },
  {
   "cell_type": "markdown",
   "metadata": {},
   "source": [
    "## Analysis and Conclusion"
   ]
  },
  {
   "cell_type": "markdown",
   "metadata": {},
   "source": [
    "It was found that the maximum percenatges for 2011 and 2012 were 89.73% and 89.64% (rounded); both of these figures were out of Iceland. The minimum percentages were both 0.0, and one of the countries that produced no alternative or nuclear energy was the UAE. The average nuclear and alternative energy percentage for 2011 and 2012 was 8.72% and 8.79%, respectively. One area for further exploration are the factors that go into how much a nation invests in nuclear and alternative energy. If a country has strong oil reserves, it might not seem beneficial to use other sources of energy. Additonally, some countries are well positioned to use these other sources. For example Iceland, with the high nuclear and alternative energy percentages at over 89%, has a population of only a few hundred thousand and about 90% of its households use geothermal energy according to the UN (https://unchronicle.un.org/article/iceland-s-sustainable-energy-story-model-world); it would be interesting to see this data broken down by the specific source of energy. The average of just under nine percent is interesting, but becuase the amount of energy produced is not taken into account, the two figures do not completely address questions of widespread usage of nuclear and alternative energy sources. This is becuase of the nature of climate change. If a quarter of a superpower's energy comes from nuclear or alternative sources but the other 75% still comes from fossil fuels, more environmental damage is done than a country that has a percentage of ten but produces so much less energy it doesn't matter. On the other hand, this data indicates how much is being invested into cleaner sources of energy, and that creates immidiate posotive effects in terms of climate change. One more area for further exploration are the factors that contribute to the slight increases and decreases (not to mention the dramatic ones) from year to year. For example the average percentage increased slightly from 2011 to 2012. What event or events caused this?"
   ]
  },
  {
   "cell_type": "markdown",
   "metadata": {},
   "source": [
    "## Aknowledgements\n",
    "Ms. Sconyers provided me with all of the code present in both data preparation and modeling. A thanks to the International Energy Agency, the Organization for Economic Cooperation and Development, and the Wolrd Bank for collecting and publishing this data (this data was published by the World Bank but it is owned by the IEA and OECD). Also, the United Nations provided information on Iceland's energy production that assisted in analysis.     "
   ]
  }
 ],
 "metadata": {
  "kernelspec": {
   "display_name": "Python 3",
   "language": "python",
   "name": "python3"
  },
  "language_info": {
   "codemirror_mode": {
    "name": "ipython",
    "version": 3
   },
   "file_extension": ".py",
   "mimetype": "text/x-python",
   "name": "python",
   "nbconvert_exporter": "python",
   "pygments_lexer": "ipython3",
   "version": "3.6.5"
  }
 },
 "nbformat": 4,
 "nbformat_minor": 2
}
